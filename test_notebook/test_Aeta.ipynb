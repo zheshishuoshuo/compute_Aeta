{
 "cells": [
  {
   "cell_type": "code",
   "execution_count": null,
   "id": "bed48051",
   "metadata": {},
   "outputs": [],
   "source": [
    "import sys\n",
    "sys.path.append(\"../../\")  "
   ]
  },
  {
   "cell_type": "code",
   "execution_count": 2,
   "id": "6fe43861",
   "metadata": {},
   "outputs": [],
   "source": [
    "from sl_inference_restart.norm_computer.compute_norm_grid import compute_A_phys_eta"
   ]
  },
  {
   "cell_type": "code",
   "execution_count": 3,
   "id": "7d111646",
   "metadata": {},
   "outputs": [],
   "source": [
    "# new"
   ]
  },
  {
   "cell_type": "code",
   "execution_count": 1,
   "id": "c349b9e4",
   "metadata": {},
   "outputs": [],
   "source": [
    "import sys\n",
    "sys.path.append(\"../../\")  "
   ]
  },
  {
   "cell_type": "code",
   "execution_count": 3,
   "id": "d4c78500",
   "metadata": {},
   "outputs": [
    {
     "data": {
      "text/plain": [
       "0.21664969065788406"
      ]
     },
     "execution_count": 3,
     "metadata": {},
     "output_type": "execute_result"
    }
   ],
   "source": [
    "\n",
    "\n",
    "\n",
    "import numpy as np\n",
    "import matplotlib.pyplot as plt\n",
    "from compute_Aeta.norm_computer.compute_norm_grid import compute_A_phys_eta as compute_A_phys_eta\n",
    "from compute_Aeta.norm_computer.compute_norm_grid import generate_lens_samples_no_alpha\n",
    "# from sl_inference_restart.norm_computer.compute_norm_grid import compute_A_phys_eta as compute_A_phys_eta_old\n",
    "# 固定参数\n",
    "mu_DM = 12\n",
    "sigma_DM = 0.37\n",
    "beta_DM = 2.04\n",
    "xi_DM = 0.0\n",
    "n_samples = 1000\n",
    "n_sigma = 5\n",
    "zl, zs = 0.3, 2.0\n",
    "m_lim = 26.5\n",
    "sigma_m = 0.1\n",
    "\n",
    "# 生成带 m_s 的样本\n",
    "samples_with_ms, Mh_range = generate_lens_samples_no_alpha(\n",
    "    n_samples=n_samples,\n",
    "    mu_DM=mu_DM,\n",
    "    sigma_DM=sigma_DM,\n",
    "    n_sigma=n_sigma,\n",
    "    seed=42,\n",
    "    alpha_s=-1.3,\n",
    "    m_s_star=24.5\n",
    ")\n",
    "\n",
    "# 生成去除 m_s 的样本\n",
    "# samples_fixed_ms = [s[:4] for s in samples_with_ms]  # 去掉第5个元素 m_s\n",
    "\n",
    "# 计算 A_eta：一种边际化，一种使用固定 ms=26.0\n",
    "A_marg = compute_A_phys_eta(mu_DM, beta_DM, xi_DM, sigma_DM,\n",
    "                            samples_with_ms, Mh_range,\n",
    "                            zl=zl, zs=zs,\n",
    "                            m_lim=m_lim, sigma_m=sigma_m)\n",
    "\n",
    "# A_fixed = compute_A_phys_eta_old(mu_DM, beta_DM, xi_DM, sigma_DM,\n",
    "#                              samples_fixed_ms, Mh_range,ms =28.0,\n",
    "#                              zl=zl, zs=zs, m_lim=m_lim, sigma_m=sigma_m)\n",
    "\n",
    "A_marg\n"
   ]
  },
  {
   "cell_type": "code",
   "execution_count": 4,
   "id": "df585fec",
   "metadata": {},
   "outputs": [
    {
     "name": "stdout",
     "output_type": "stream",
     "text": [
      "\u001b[0;31mSignature:\u001b[0m\n",
      "\u001b[0mgenerate_lens_samples_no_alpha\u001b[0m\u001b[0;34m(\u001b[0m\u001b[0;34m\u001b[0m\n",
      "\u001b[0;34m\u001b[0m    \u001b[0mn_samples\u001b[0m\u001b[0;34m=\u001b[0m\u001b[0;36m1000\u001b[0m\u001b[0;34m,\u001b[0m\u001b[0;34m\u001b[0m\n",
      "\u001b[0;34m\u001b[0m    \u001b[0mseed\u001b[0m\u001b[0;34m=\u001b[0m\u001b[0;36m42\u001b[0m\u001b[0;34m,\u001b[0m\u001b[0;34m\u001b[0m\n",
      "\u001b[0;34m\u001b[0m    \u001b[0mmu_DM\u001b[0m\u001b[0;34m=\u001b[0m\u001b[0;36m13.0\u001b[0m\u001b[0;34m,\u001b[0m\u001b[0;34m\u001b[0m\n",
      "\u001b[0;34m\u001b[0m    \u001b[0msigma_DM\u001b[0m\u001b[0;34m=\u001b[0m\u001b[0;36m0.2\u001b[0m\u001b[0;34m,\u001b[0m\u001b[0;34m\u001b[0m\n",
      "\u001b[0;34m\u001b[0m    \u001b[0mn_sigma\u001b[0m\u001b[0;34m=\u001b[0m\u001b[0;36m3\u001b[0m\u001b[0;34m,\u001b[0m\u001b[0;34m\u001b[0m\n",
      "\u001b[0;34m\u001b[0m\u001b[0;34m)\u001b[0m\u001b[0;34m\u001b[0m\u001b[0;34m\u001b[0m\u001b[0m\n",
      "\u001b[0;31mDocstring:\u001b[0m\n",
      "生成透镜样本，不使用 alpha_sps。\n",
      "输出：(logM_star, logRe, logMh, beta)，以及 Mh 的采样范围\n",
      "\u001b[0;31mFile:\u001b[0m      ~/Github/sl_inference_restart/norm_computer/compute_norm_grid.py\n",
      "\u001b[0;31mType:\u001b[0m      function"
     ]
    }
   ],
   "source": [
    "generate_lens_samples_no_alpha?"
   ]
  },
  {
   "cell_type": "code",
   "execution_count": null,
   "id": "b0095808",
   "metadata": {},
   "outputs": [],
   "source": []
  }
 ],
 "metadata": {
  "kernelspec": {
   "display_name": "base",
   "language": "python",
   "name": "python3"
  },
  "language_info": {
   "codemirror_mode": {
    "name": "ipython",
    "version": 3
   },
   "file_extension": ".py",
   "mimetype": "text/x-python",
   "name": "python",
   "nbconvert_exporter": "python",
   "pygments_lexer": "ipython3",
   "version": "3.12.2"
  }
 },
 "nbformat": 4,
 "nbformat_minor": 5
}
