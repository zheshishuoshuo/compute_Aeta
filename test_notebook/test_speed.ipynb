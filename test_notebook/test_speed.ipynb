{
 "cells": [
  {
   "cell_type": "code",
   "execution_count": 1,
   "id": "bab27eeb",
   "metadata": {},
   "outputs": [
    {
     "name": "stdout",
     "output_type": "stream",
     "text": [
      "         6054980 function calls (6039101 primitive calls) in 3.064 seconds\n",
      "\n",
      "   Ordered by: cumulative time\n",
      "   List reduced from 3187 to 20 due to restriction <20>\n",
      "\n",
      "   ncalls  tottime  percall  cumtime  percall filename:lineno(function)\n",
      "   1063/2    0.014    0.000    3.064    1.532 {built-in method builtins.exec}\n",
      "        1    0.000    0.000    3.063    3.063 171727507.py:5(run_profiled)\n",
      "        1    0.005    0.005    2.215    2.215 compute_norm_grid.py:92(compute_A_phys_eta)\n",
      "      110    0.002    0.000    1.803    0.016 __init__.py:1(<module>)\n",
      "     2000    0.003    0.000    1.602    0.001 lens_solver.py:9(solve_single_lens)\n",
      "    10000    0.007    0.000    1.443    0.000 _zeros_py.py:679(brentq)\n",
      "    10000    0.021    0.000    1.432    0.000 {built-in method scipy.optimize._zeros._brentq}\n",
      "   129948    0.074    0.000    1.410    0.000 _zeros_py.py:93(f_raise)\n",
      "     4000    0.003    0.000    1.146    0.000 lens_model.py:134(solve_xradcrit)\n",
      "    84588    0.032    0.000    1.081    0.000 lens_model.py:136(radial_invmag)\n",
      "   147948    0.140    0.000    0.999    0.000 lens_model.py:65(alpha)\n",
      "   1021/1    0.002    0.000    0.848    0.848 <frozen importlib._bootstrap>:1349(_find_and_load)\n",
      "    995/1    0.002    0.000    0.848    0.848 <frozen importlib._bootstrap>:1304(_find_and_load_unlocked)\n",
      "   2432/3    0.001    0.000    0.847    0.282 <frozen importlib._bootstrap>:480(_call_with_frames_removed)\n",
      "    964/3    0.001    0.000    0.845    0.282 <frozen importlib._bootstrap>:911(_load_unlocked)\n",
      "    778/2    0.001    0.000    0.845    0.423 <frozen importlib._bootstrap_external>:989(exec_module)\n",
      "        1    0.000    0.000    0.844    0.844 compute_norm_grid.py:1(<module>)\n",
      "   238536    0.060    0.000    0.754    0.000 _fitpack_py.py:299(splev)\n",
      "   238536    0.404    0.000    0.680    0.000 _fitpack_impl.py:302(splev)\n",
      "  632/127    0.000    0.000    0.581    0.005 {built-in method builtins.__import__}\n",
      "\n",
      "\n"
     ]
    },
    {
     "data": {
      "text/plain": [
       "<pstats.Stats at 0x17aaf3080>"
      ]
     },
     "execution_count": 1,
     "metadata": {},
     "output_type": "execute_result"
    }
   ],
   "source": [
    "import cProfile, pstats\n",
    "import sys\n",
    "sys.path.append(\"../../\")  \n",
    "\n",
    "def run_profiled():\n",
    "    from compute_Aeta.norm_computer.compute_norm_grid import compute_A_phys_eta, generate_lens_samples_no_alpha\n",
    "    mu_DM, sigma_DM, beta_DM, xi_DM = 12.5, 0.3, 1.5, 0.0\n",
    "    samples, Mh_range = generate_lens_samples_no_alpha(n_samples=2000, mu_DM=mu_DM, sigma_DM=sigma_DM)\n",
    "\n",
    "    compute_A_phys_eta(\n",
    "        mu_DM_cnst=mu_DM,\n",
    "        beta_DM=beta_DM,\n",
    "        xi_DM=xi_DM,\n",
    "        sigma_DM=sigma_DM,\n",
    "        samples=samples,\n",
    "        Mh_range=Mh_range\n",
    "    )\n",
    "\n",
    "profiler = cProfile.Profile()\n",
    "profiler.enable()\n",
    "run_profiled()\n",
    "profiler.disable()\n",
    "\n",
    "stats = pstats.Stats(profiler)\n",
    "stats.strip_dirs().sort_stats(\"cumtime\").print_stats(20)\n"
   ]
  },
  {
   "cell_type": "code",
   "execution_count": null,
   "id": "75ede264",
   "metadata": {},
   "outputs": [],
   "source": []
  }
 ],
 "metadata": {
  "kernelspec": {
   "display_name": "base",
   "language": "python",
   "name": "python3"
  },
  "language_info": {
   "codemirror_mode": {
    "name": "ipython",
    "version": 3
   },
   "file_extension": ".py",
   "mimetype": "text/x-python",
   "name": "python",
   "nbconvert_exporter": "python",
   "pygments_lexer": "ipython3",
   "version": "3.12.2"
  }
 },
 "nbformat": 4,
 "nbformat_minor": 5
}
